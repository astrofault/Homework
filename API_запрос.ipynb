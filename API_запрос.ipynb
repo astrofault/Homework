{
  "nbformat": 4,
  "nbformat_minor": 0,
  "metadata": {
    "colab": {
      "name": "Untitled6.ipynb",
      "provenance": []
    },
    "kernelspec": {
      "name": "python3",
      "display_name": "Python 3"
    },
    "language_info": {
      "name": "python"
    }
  },
  "cells": [
    {
      "cell_type": "code",
      "metadata": {
        "id": "L4futE0_TPtB"
      },
      "source": [
        "import requests\n",
        "url = 'https://www.anapioficeandfire.com/api/characters?page=1&pageSize=50'"
      ],
      "execution_count": 2,
      "outputs": []
    },
    {
      "cell_type": "code",
      "metadata": {
        "id": "mMu5DET2fv3e"
      },
      "source": [
        "params = {\n",
        "    \"culture\": \"Westeros\", \n",
        "    \"isAlive\": True,\n",
        "}"
      ],
      "execution_count": 3,
      "outputs": []
    },
    {
      "cell_type": "code",
      "metadata": {
        "id": "ftnZjkzZTPvh"
      },
      "source": [
        "req = requests.get(url, params= params)"
      ],
      "execution_count": 7,
      "outputs": []
    },
    {
      "cell_type": "code",
      "metadata": {
        "id": "SjbaIEGVTPyk"
      },
      "source": [
        "reqj = req.json()"
      ],
      "execution_count": 9,
      "outputs": []
    },
    {
      "cell_type": "code",
      "metadata": {
        "id": "DLcuSjUPTP1Y"
      },
      "source": [
        "reqj"
      ],
      "execution_count": null,
      "outputs": []
    },
    {
      "cell_type": "code",
      "metadata": {
        "id": "qOZflCxgYzZn"
      },
      "source": [
        "import pandas as pd\n",
        "req_data = pd.DataFrame(reqj)"
      ],
      "execution_count": 15,
      "outputs": []
    },
    {
      "cell_type": "code",
      "metadata": {
        "id": "40N4ArKHYzcu"
      },
      "source": [
        "req_data"
      ],
      "execution_count": null,
      "outputs": []
    },
    {
      "cell_type": "code",
      "metadata": {
        "id": "BUmen6H3Yzfe"
      },
      "source": [
        "req_data_list = req_data['playedBy'].tolist()"
      ],
      "execution_count": 19,
      "outputs": []
    },
    {
      "cell_type": "code",
      "metadata": {
        "id": "sSb8sVxrZgt3"
      },
      "source": [
        "req_data_list"
      ],
      "execution_count": null,
      "outputs": []
    }
  ]
}